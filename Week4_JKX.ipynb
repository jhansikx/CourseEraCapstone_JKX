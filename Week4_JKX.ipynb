{
 "cells": [
  {
   "cell_type": "markdown",
   "metadata": {},
   "source": [
    "### Data Description"
   ]
  },
  {
   "cell_type": "markdown",
   "metadata": {},
   "source": [
    "#### As I am planning to open a Boutique Shop in Houston, and if I am going to rent a place. So first I took the rent dataset from (https://www.rentcafe.com/average-rent-market-trends/us/tx/houston/) according to neighborhood wise, so that it's easy for us to check the rent data neighborhood wise. I have cleaned the dataset and I'm going to compare the rent data of only year first half of year 2018. Because for this project we just need to analyze the current rent range."
   ]
  },
  {
   "cell_type": "code",
   "execution_count": 9,
   "metadata": {},
   "outputs": [],
   "source": [
    "import pandas as pd\n",
    "df = pd.read_csv('HoustonRentDataSet.csv')\n",
    "\n"
   ]
  },
  {
   "cell_type": "code",
   "execution_count": 10,
   "metadata": {},
   "outputs": [
    {
     "data": {
      "text/html": [
       "<div>\n",
       "<style scoped>\n",
       "    .dataframe tbody tr th:only-of-type {\n",
       "        vertical-align: middle;\n",
       "    }\n",
       "\n",
       "    .dataframe tbody tr th {\n",
       "        vertical-align: top;\n",
       "    }\n",
       "\n",
       "    .dataframe thead th {\n",
       "        text-align: right;\n",
       "    }\n",
       "</style>\n",
       "<table border=\"1\" class=\"dataframe\">\n",
       "  <thead>\n",
       "    <tr style=\"text-align: right;\">\n",
       "      <th></th>\n",
       "      <th>NeighborhoodName</th>\n",
       "      <th>City</th>\n",
       "      <th>State</th>\n",
       "      <th>2018-1</th>\n",
       "      <th>2018-2</th>\n",
       "      <th>2018-2.1</th>\n",
       "      <th>2018-03</th>\n",
       "      <th>2018-05</th>\n",
       "      <th>2018-06</th>\n",
       "    </tr>\n",
       "  </thead>\n",
       "  <tbody>\n",
       "    <tr>\n",
       "      <th>0</th>\n",
       "      <td>West U</td>\n",
       "      <td>Houston</td>\n",
       "      <td>TX</td>\n",
       "      <td>2200.0</td>\n",
       "      <td>2250.0</td>\n",
       "      <td>2195.0</td>\n",
       "      <td>2302.0</td>\n",
       "      <td>2381.0</td>\n",
       "      <td>2250.0</td>\n",
       "    </tr>\n",
       "    <tr>\n",
       "      <th>1</th>\n",
       "      <td>Downtown</td>\n",
       "      <td>Houston</td>\n",
       "      <td>TX</td>\n",
       "      <td>2855.0</td>\n",
       "      <td>2950.0</td>\n",
       "      <td>2090.0</td>\n",
       "      <td>2020.0</td>\n",
       "      <td>2095.0</td>\n",
       "      <td>2095.0</td>\n",
       "    </tr>\n",
       "    <tr>\n",
       "      <th>2</th>\n",
       "      <td>Second Ward</td>\n",
       "      <td>Houston</td>\n",
       "      <td>TX</td>\n",
       "      <td>2500.0</td>\n",
       "      <td>2397.5</td>\n",
       "      <td>2595.0</td>\n",
       "      <td>2695.0</td>\n",
       "      <td>2719.5</td>\n",
       "      <td>2739.0</td>\n",
       "    </tr>\n",
       "    <tr>\n",
       "      <th>3</th>\n",
       "      <td>ClearLake</td>\n",
       "      <td>Houston</td>\n",
       "      <td>TX</td>\n",
       "      <td>2862.5</td>\n",
       "      <td>2800.0</td>\n",
       "      <td>2795.0</td>\n",
       "      <td>2795.0</td>\n",
       "      <td>2795.0</td>\n",
       "      <td>2700.0</td>\n",
       "    </tr>\n",
       "    <tr>\n",
       "      <th>4</th>\n",
       "      <td>Sugarland</td>\n",
       "      <td>Houston</td>\n",
       "      <td>TX</td>\n",
       "      <td>2550.0</td>\n",
       "      <td>2709.0</td>\n",
       "      <td>2729.0</td>\n",
       "      <td>2665.0</td>\n",
       "      <td>2667.5</td>\n",
       "      <td>2650.0</td>\n",
       "    </tr>\n",
       "    <tr>\n",
       "      <th>5</th>\n",
       "      <td>SpringBranch</td>\n",
       "      <td>Houston</td>\n",
       "      <td>TX</td>\n",
       "      <td>2395.0</td>\n",
       "      <td>2337.5</td>\n",
       "      <td>2235.0</td>\n",
       "      <td>2373.0</td>\n",
       "      <td>2295.0</td>\n",
       "      <td>2250.0</td>\n",
       "    </tr>\n",
       "    <tr>\n",
       "      <th>6</th>\n",
       "      <td>Garden Oaks</td>\n",
       "      <td>Houston</td>\n",
       "      <td>TX</td>\n",
       "      <td>2965.0</td>\n",
       "      <td>3205.0</td>\n",
       "      <td>2985.0</td>\n",
       "      <td>3050.0</td>\n",
       "      <td>3175.0</td>\n",
       "      <td>3120.0</td>\n",
       "    </tr>\n",
       "    <tr>\n",
       "      <th>7</th>\n",
       "      <td>Hobby Area</td>\n",
       "      <td>Houston</td>\n",
       "      <td>TX</td>\n",
       "      <td>2200.0</td>\n",
       "      <td>2286.5</td>\n",
       "      <td>2273.0</td>\n",
       "      <td>2200.0</td>\n",
       "      <td>2300.0</td>\n",
       "      <td>2300.0</td>\n",
       "    </tr>\n",
       "    <tr>\n",
       "      <th>8</th>\n",
       "      <td>Montrose</td>\n",
       "      <td>Houston</td>\n",
       "      <td>TX</td>\n",
       "      <td>2200.0</td>\n",
       "      <td>2225.0</td>\n",
       "      <td>2207.0</td>\n",
       "      <td>2258.0</td>\n",
       "      <td>2296.0</td>\n",
       "      <td>2275.0</td>\n",
       "    </tr>\n",
       "    <tr>\n",
       "      <th>9</th>\n",
       "      <td>Heights</td>\n",
       "      <td>Houston</td>\n",
       "      <td>TX</td>\n",
       "      <td>2800.0</td>\n",
       "      <td>2900.0</td>\n",
       "      <td>2897.5</td>\n",
       "      <td>2900.0</td>\n",
       "      <td>2950.0</td>\n",
       "      <td>2925.0</td>\n",
       "    </tr>\n",
       "    <tr>\n",
       "      <th>10</th>\n",
       "      <td>Midtown</td>\n",
       "      <td>Houston</td>\n",
       "      <td>TX</td>\n",
       "      <td>2259.0</td>\n",
       "      <td>2252.5</td>\n",
       "      <td>2500.0</td>\n",
       "      <td>2562.0</td>\n",
       "      <td>2500.0</td>\n",
       "      <td>2500.0</td>\n",
       "    </tr>\n",
       "    <tr>\n",
       "      <th>11</th>\n",
       "      <td>Cypress</td>\n",
       "      <td>Houston</td>\n",
       "      <td>TX</td>\n",
       "      <td>2699.0</td>\n",
       "      <td>2798.0</td>\n",
       "      <td>2975.5</td>\n",
       "      <td>3012.0</td>\n",
       "      <td>3088.5</td>\n",
       "      <td>3092.5</td>\n",
       "    </tr>\n",
       "    <tr>\n",
       "      <th>12</th>\n",
       "      <td>Katy</td>\n",
       "      <td>Houston</td>\n",
       "      <td>TX</td>\n",
       "      <td>2395.0</td>\n",
       "      <td>2350.0</td>\n",
       "      <td>2620.5</td>\n",
       "      <td>2672.5</td>\n",
       "      <td>2505.0</td>\n",
       "      <td>2625.0</td>\n",
       "    </tr>\n",
       "  </tbody>\n",
       "</table>\n",
       "</div>"
      ],
      "text/plain": [
       "   NeighborhoodName     City State  2018-1  2018-2  2018-2.1  2018-03  \\\n",
       "0            West U  Houston    TX  2200.0  2250.0    2195.0   2302.0   \n",
       "1          Downtown  Houston    TX  2855.0  2950.0    2090.0   2020.0   \n",
       "2       Second Ward  Houston    TX  2500.0  2397.5    2595.0   2695.0   \n",
       "3         ClearLake  Houston    TX  2862.5  2800.0    2795.0   2795.0   \n",
       "4         Sugarland  Houston    TX  2550.0  2709.0    2729.0   2665.0   \n",
       "5      SpringBranch  Houston    TX  2395.0  2337.5    2235.0   2373.0   \n",
       "6       Garden Oaks  Houston    TX  2965.0  3205.0    2985.0   3050.0   \n",
       "7        Hobby Area  Houston    TX  2200.0  2286.5    2273.0   2200.0   \n",
       "8          Montrose  Houston    TX  2200.0  2225.0    2207.0   2258.0   \n",
       "9           Heights  Houston    TX  2800.0  2900.0    2897.5   2900.0   \n",
       "10          Midtown  Houston    TX  2259.0  2252.5    2500.0   2562.0   \n",
       "11          Cypress  Houston    TX  2699.0  2798.0    2975.5   3012.0   \n",
       "12             Katy  Houston    TX  2395.0  2350.0    2620.5   2672.5   \n",
       "\n",
       "    2018-05  2018-06  \n",
       "0    2381.0   2250.0  \n",
       "1    2095.0   2095.0  \n",
       "2    2719.5   2739.0  \n",
       "3    2795.0   2700.0  \n",
       "4    2667.5   2650.0  \n",
       "5    2295.0   2250.0  \n",
       "6    3175.0   3120.0  \n",
       "7    2300.0   2300.0  \n",
       "8    2296.0   2275.0  \n",
       "9    2950.0   2925.0  \n",
       "10   2500.0   2500.0  \n",
       "11   3088.5   3092.5  \n",
       "12   2505.0   2625.0  "
      ]
     },
     "execution_count": 10,
     "metadata": {},
     "output_type": "execute_result"
    }
   ],
   "source": [
    "df"
   ]
  },
  {
   "cell_type": "markdown",
   "metadata": {},
   "source": [
    "#### Since I dont have all neighborhood's rent data, I planned to test only for the data I have retrieved.\n",
    "I'm going to use a formula to find which neighborhood is good to open a new shop. Before coming up with a formula, I was wondering what all attributes/factors can we consider because it's really unfair to compare data of 10 years old shop with 1 year old shop. Like for example, the checkin count of 10 years old shop will be more compared to a 1 year old or 6 months old shop. And also after analysing data I found that in many shop checkin count is zero. I thought checkin count would be really be helpful to figureout the number of crowd visiting a particular neighborhood, but because of data discrepancy I avoided it. Then I concluedd that every shop would definitely have ratings. Even if 100 customers have visited a 1 year old shop, the rating will be out of 5 stars, and same goes for a 10 year old shop.\n"
   ]
  },
  {
   "cell_type": "markdown",
   "metadata": {},
   "source": [
    "### Below is the formula for the solution.\n",
    "finalScore = (rentScore)0.6+(ratingScore)0.4\n",
    "Closer the finalScore value to 1, better choice of neighborhood for the client to decide. I have given more weightage to rent than rating. Let's see what isrentScore and ratingScore means.\n",
    "rentScore can be calculated by (maxrentofneighborhood-averagerentofneighborhood)/(maxrentofneighborhood-minrentofneighborhood). rentScore value for each neighborhood can be obtained from above rent dataset.\n",
    "ratingScore can be calculated by (maxrating-restaurantrating)/(maxrating-minrating). ratingScore can be obtained using foursquare location. Below are the steps to get ratingScore.\n",
    "In order to analyse and get more information of other shop we need the co-ordinates of the neighborhood's. Co-ordinates or latitude & longitude can be obtained by passing the NeighborhoodName value through geocoding. Let's import the package and find co-ordinates of first Neighborhood from above rent dataset."
   ]
  },
  {
   "cell_type": "code",
   "execution_count": 1,
   "metadata": {},
   "outputs": [
    {
     "name": "stdout",
     "output_type": "stream",
     "text": [
      "Solving environment: done\n",
      "\n",
      "## Package Plan ##\n",
      "\n",
      "  environment location: /home/jupyterlab/conda\n",
      "\n",
      "  added / updated specs: \n",
      "    - geopy\n",
      "\n",
      "\n",
      "The following packages will be downloaded:\n",
      "\n",
      "    package                    |            build\n",
      "    ---------------------------|-----------------\n",
      "    geographiclib-1.49         |             py_0          32 KB  conda-forge\n",
      "    cryptography-2.4.2         |   py36h1ba5d50_0         618 KB\n",
      "    openssl-1.1.1a             |    h14c3975_1000         4.0 MB  conda-forge\n",
      "    libarchive-3.3.3           |       h5d8350f_5         1.5 MB\n",
      "    grpcio-1.16.1              |   py36hf8bcb03_1         1.1 MB\n",
      "    geopy-1.18.1               |             py_0          51 KB  conda-forge\n",
      "    conda-4.6.2                |           py36_0         869 KB  conda-forge\n",
      "    libssh2-1.8.0              |                1         239 KB  conda-forge\n",
      "    python-3.6.8               |       h0371630_0        34.4 MB\n",
      "    ------------------------------------------------------------\n",
      "                                           Total:        42.7 MB\n",
      "\n",
      "The following NEW packages will be INSTALLED:\n",
      "\n",
      "    geographiclib: 1.49-py_0                conda-forge\n",
      "\n",
      "The following packages will be UPDATED:\n",
      "\n",
      "    conda:         4.5.12-py36_1000         conda-forge --> 4.6.2-py36_0            conda-forge\n",
      "    cryptography:  2.3.1-py36hb7f436b_1000  conda-forge --> 2.4.2-py36h1ba5d50_0               \n",
      "    curl:          7.63.0-h646f8bb_1000     conda-forge --> 7.63.0-hbc83047_1000               \n",
      "    geopy:         1.11.0-py36_0            conda-forge --> 1.18.1-py_0             conda-forge\n",
      "    grpcio:        1.16.0-py36h4f00d22_1000 conda-forge --> 1.16.1-py36hf8bcb03_1              \n",
      "    libcurl:       7.63.0-h01ee5af_1000     conda-forge --> 7.63.0-h20c2e04_1000               \n",
      "    openssl:       1.0.2p-h14c3975_1002     conda-forge --> 1.1.1a-h14c3975_1000    conda-forge\n",
      "    pycurl:        7.43.0.2-py36hb7f436b_0              --> 7.43.0.2-py36h1ba5d50_0            \n",
      "    python:        3.6.6-hd21baee_1003      conda-forge --> 3.6.8-h0371630_0                   \n",
      "    qt:            5.9.6-h8703b6f_2                     --> 5.9.7-h5867ecd_1                   \n",
      "\n",
      "The following packages will be DOWNGRADED:\n",
      "\n",
      "    krb5:          1.16.2-hc83ff2d_1000     conda-forge --> 1.16.1-h173b8e3_7                  \n",
      "    libarchive:    3.3.3-ha149a29_1000      conda-forge --> 3.3.3-h5d8350f_5                   \n",
      "    libssh2:       1.8.0-h1ad7b7a_1003      conda-forge --> 1.8.0-1                 conda-forge\n",
      "\n",
      "\n",
      "Downloading and Extracting Packages\n",
      "geographiclib-1.49   | 32 KB     | ##################################### | 100% \n",
      "cryptography-2.4.2   | 618 KB    | ##################################### | 100% \n",
      "openssl-1.1.1a       | 4.0 MB    | ##################################### | 100% \n",
      "libarchive-3.3.3     | 1.5 MB    | ##################################### | 100% \n",
      "grpcio-1.16.1        | 1.1 MB    | ##################################### | 100% \n",
      "geopy-1.18.1         | 51 KB     | ##################################### | 100% \n",
      "conda-4.6.2          | 869 KB    | ##################################### | 100% \n",
      "libssh2-1.8.0        | 239 KB    | ##################################### | 100% \n",
      "python-3.6.8         | 34.4 MB   | ##################################### | 100% \n",
      "Preparing transaction: done\n",
      "Verifying transaction: done\n",
      "Executing transaction: done\n"
     ]
    }
   ],
   "source": [
    "!conda install -c conda-forge geopy --yes \n",
    "from geopy.geocoders import Nominatim"
   ]
  },
  {
   "cell_type": "code",
   "execution_count": 25,
   "metadata": {},
   "outputs": [
    {
     "name": "stderr",
     "output_type": "stream",
     "text": [
      "/home/jupyterlab/conda/lib/python3.6/site-packages/ipykernel_launcher.py:2: DeprecationWarning: Using Nominatim with the default \"geopy/1.18.1\" `user_agent` is strongly discouraged, as it violates Nominatim's ToS https://operations.osmfoundation.org/policies/nominatim/ and may possibly cause 403 and 429 HTTP errors. Please specify a custom `user_agent` with `Nominatim(user_agent=\"my-application\")` or by overriding the default `user_agent`: `geopy.geocoders.options.default_user_agent = \"my-application\"`. In geopy 2.0 this will become an exception.\n",
      "  \n"
     ]
    },
    {
     "name": "stdout",
     "output_type": "stream",
     "text": [
      "Latitude and longitude of Houston, TX are 29.7589382, -95.3676974.\n"
     ]
    }
   ],
   "source": [
    "address = 'Houston, TX'\n",
    "geolocator = Nominatim()\n",
    "location = geolocator.geocode(address)\n",
    "latitude = location.latitude\n",
    "longitude = location.longitude\n",
    "print('Latitude and longitude of '+address+' are {}, {}.'.format(latitude, longitude))"
   ]
  },
  {
   "cell_type": "code",
   "execution_count": null,
   "metadata": {},
   "outputs": [],
   "source": []
  },
  {
   "cell_type": "code",
   "execution_count": 26,
   "metadata": {
    "button": false,
    "collapsed": false,
    "new_sheet": false,
    "run_control": {
     "read_only": false
    }
   },
   "outputs": [
    {
     "name": "stdout",
     "output_type": "stream",
     "text": [
      "Your credentails:\n",
      "CLIENT_ID: FYC3IRUAWQMFYFKVDXMBHVTC0I1A4NPNPWY3MEYYPAXY14MD\n",
      "CLIENT_SECRET:BLD5DNYLMDSXOGFBZHAWWA3JSAY3ZCS4GXU3VMDFDXOJF3T2\n"
     ]
    }
   ],
   "source": [
    "CLIENT_ID = 'FYC3IRUAWQMFYFKVDXMBHVTC0I1A4NPNPWY3MEYYPAXY14MD' # your Foursquare ID\n",
    "CLIENT_SECRET = 'BLD5DNYLMDSXOGFBZHAWWA3JSAY3ZCS4GXU3VMDFDXOJF3T2' # your Foursquare Secret\n",
    "VERSION = '20180604'\n",
    "LIMIT = 30\n",
    "print('Your credentails:')\n",
    "print('CLIENT_ID: ' + CLIENT_ID)\n",
    "print('CLIENT_SECRET:' + CLIENT_SECRET)"
   ]
  },
  {
   "cell_type": "code",
   "execution_count": 29,
   "metadata": {},
   "outputs": [
    {
     "name": "stdout",
     "output_type": "stream",
     "text": [
      "Boutique .... OK!\n"
     ]
    },
    {
     "data": {
      "text/plain": [
       "'https://api.foursquare.com/v2/venues/search?client_id=FYC3IRUAWQMFYFKVDXMBHVTC0I1A4NPNPWY3MEYYPAXY14MD&client_secret=BLD5DNYLMDSXOGFBZHAWWA3JSAY3ZCS4GXU3VMDFDXOJF3T2&ll=29.7589382,-95.3676974&v=20180604&query=Boutique&radius=500&limit=30'"
      ]
     },
     "execution_count": 29,
     "metadata": {},
     "output_type": "execute_result"
    }
   ],
   "source": [
    "search_query = 'Boutique'\n",
    "radius = 500\n",
    "print(search_query + ' .... OK!')\n",
    "url = 'https://api.foursquare.com/v2/venues/search?client_id={}&client_secret={}&ll={},{}&v={}&query={}&radius={}&limit={}'.format(CLIENT_ID, CLIENT_SECRET, latitude, longitude, VERSION, search_query, radius, LIMIT)\n",
    "url"
   ]
  },
  {
   "cell_type": "code",
   "execution_count": 30,
   "metadata": {},
   "outputs": [
    {
     "data": {
      "text/plain": [
       "{'meta': {'code': 200, 'requestId': '5c53720bf594df21137dbae1'},\n",
       " 'response': {'venues': [{'id': '52ca1a3211d21fde7092b7a9',\n",
       "    'name': 'The Mac Boutique',\n",
       "    'location': {'address': '708 Main St Ste 570',\n",
       "     'crossStreet': 'between Rusk & Capitol',\n",
       "     'lat': 29.759012697864655,\n",
       "     'lng': -95.36355972290039,\n",
       "     'labeledLatLngs': [{'label': 'display',\n",
       "       'lat': 29.759012697864655,\n",
       "       'lng': -95.36355972290039}],\n",
       "     'distance': 399,\n",
       "     'postalCode': '77002',\n",
       "     'cc': 'US',\n",
       "     'city': 'Houston',\n",
       "     'state': 'TX',\n",
       "     'country': 'United States',\n",
       "     'formattedAddress': ['708 Main St Ste 570 (between Rusk & Capitol)',\n",
       "      'Houston, TX 77002',\n",
       "      'United States']},\n",
       "    'categories': [{'id': '4bf58dd8d48988d122951735',\n",
       "      'name': 'Electronics Store',\n",
       "      'pluralName': 'Electronics Stores',\n",
       "      'shortName': 'Electronics',\n",
       "      'icon': {'prefix': 'https://ss3.4sqi.net/img/categories_v2/shops/technology_',\n",
       "       'suffix': '.png'},\n",
       "      'primary': True}],\n",
       "    'referralId': 'v-1548972555',\n",
       "    'hasPerk': False}]}}"
      ]
     },
     "execution_count": 30,
     "metadata": {},
     "output_type": "execute_result"
    }
   ],
   "source": [
    "#Send the GET request and examine the resutls\n",
    "import requests \n",
    "results = requests.get(url).json()\n",
    "url\n",
    "results"
   ]
  },
  {
   "cell_type": "code",
   "execution_count": 31,
   "metadata": {},
   "outputs": [
    {
     "name": "stdout",
     "output_type": "stream",
     "text": [
      "There are 1 Boutique.\n"
     ]
    }
   ],
   "source": [
    "Boutique= len(results['response']['venues'])\n",
    "print ('There are',  Boutique , 'Boutique.')"
   ]
  },
  {
   "cell_type": "code",
   "execution_count": 32,
   "metadata": {},
   "outputs": [
    {
     "data": {
      "text/plain": [
       "'52ca1a3211d21fde7092b7a9'"
      ]
     },
     "execution_count": 32,
     "metadata": {},
     "output_type": "execute_result"
    }
   ],
   "source": [
    "venueid= results['response']['venues'][0]['id']\n",
    "venueid"
   ]
  },
  {
   "cell_type": "code",
   "execution_count": 34,
   "metadata": {},
   "outputs": [
    {
     "data": {
      "text/plain": [
       "{'meta': {'code': 200, 'requestId': '5c53727bdd5797192b3e1f0c'},\n",
       " 'response': {'venue': {'id': '52ca1a3211d21fde7092b7a9',\n",
       "   'name': 'The Mac Boutique',\n",
       "   'contact': {'phone': '7139995000',\n",
       "    'formattedPhone': '(713) 999-5000',\n",
       "    'twitter': 'mac_boutique'},\n",
       "   'location': {'address': '708 Main St Ste 570',\n",
       "    'crossStreet': 'between Rusk & Capitol',\n",
       "    'lat': 29.759012697864655,\n",
       "    'lng': -95.36355972290039,\n",
       "    'labeledLatLngs': [{'label': 'display',\n",
       "      'lat': 29.759012697864655,\n",
       "      'lng': -95.36355972290039}],\n",
       "    'distance': 399,\n",
       "    'postalCode': '77002',\n",
       "    'cc': 'US',\n",
       "    'city': 'Houston',\n",
       "    'state': 'TX',\n",
       "    'country': 'United States',\n",
       "    'formattedAddress': ['708 Main St Ste 570 (between Rusk & Capitol)',\n",
       "     'Houston, TX 77002',\n",
       "     'United States']},\n",
       "   'canonicalUrl': 'https://foursquare.com/v/the-mac-boutique/52ca1a3211d21fde7092b7a9',\n",
       "   'categories': [{'id': '4bf58dd8d48988d122951735',\n",
       "     'name': 'Electronics Store',\n",
       "     'pluralName': 'Electronics Stores',\n",
       "     'shortName': 'Electronics',\n",
       "     'icon': {'prefix': 'https://ss3.4sqi.net/img/categories_v2/shops/technology_',\n",
       "      'suffix': '.png'},\n",
       "     'primary': True}],\n",
       "   'verified': False,\n",
       "   'stats': {'tipCount': 1},\n",
       "   'likes': {'count': 0, 'groups': []},\n",
       "   'dislike': False,\n",
       "   'ok': False,\n",
       "   'allowMenuUrlEdit': True,\n",
       "   'beenHere': {'count': 0,\n",
       "    'unconfirmedCount': 0,\n",
       "    'marked': False,\n",
       "    'lastCheckinExpiredAt': 0},\n",
       "   'specials': {'count': 0, 'items': []},\n",
       "   'photos': {'count': 0,\n",
       "    'groups': [{'type': 'checkin',\n",
       "      'name': \"Friends' check-in photos\",\n",
       "      'count': 0,\n",
       "      'items': []}],\n",
       "    'summary': 'No photos'},\n",
       "   'reasons': {'count': 0, 'items': []},\n",
       "   'hereNow': {'count': 0, 'summary': 'Nobody here', 'groups': []},\n",
       "   'createdAt': 1388976690,\n",
       "   'tips': {'count': 1,\n",
       "    'groups': [{'type': 'others',\n",
       "      'name': 'All tips',\n",
       "      'count': 1,\n",
       "      'items': [{'id': '53607cfa498e18687ee5d15e',\n",
       "        'createdAt': 1398832378,\n",
       "        'text': 'Get your Mac fixed here',\n",
       "        'type': 'user',\n",
       "        'canonicalUrl': 'https://foursquare.com/item/53607cfa498e18687ee5d15e',\n",
       "        'lang': 'en',\n",
       "        'likes': {'count': 0, 'groups': []},\n",
       "        'logView': True,\n",
       "        'agreeCount': 0,\n",
       "        'disagreeCount': 0,\n",
       "        'todo': {'count': 0},\n",
       "        'user': {'id': '1873578',\n",
       "         'firstName': 'theChad',\n",
       "         'gender': 'male',\n",
       "         'photo': {'prefix': 'https://fastly.4sqi.net/img/user/',\n",
       "          'suffix': '/1873578_BJ-XGrce_7Zyw6uiOY1kFN0n4tXR9BIkQtH2-QBsqbDunYmUA5EIzKjwcTsElE3FSSuGkEmJS.jpg'}}}]}]},\n",
       "   'shortUrl': 'http://4sq.com/1dH1rKY',\n",
       "   'timeZone': 'America/Chicago',\n",
       "   'listed': {'count': 0,\n",
       "    'groups': [{'type': 'others',\n",
       "      'name': 'Lists from other people',\n",
       "      'count': 0,\n",
       "      'items': []}]},\n",
       "   'pageUpdates': {'count': 0, 'items': []},\n",
       "   'inbox': {'count': 0, 'items': []},\n",
       "   'attributes': {'groups': []}}}}"
      ]
     },
     "execution_count": 34,
     "metadata": {},
     "output_type": "execute_result"
    }
   ],
   "source": [
    "url2 = 'https://api.foursquare.com/v2/venues/52ca1a3211d21fde7092b7a9?&client_id={}&client_secret={}&v={}&ll={},{}'.format(\n",
    "    CLIENT_ID, \n",
    "    CLIENT_SECRET, \n",
    "    VERSION, \n",
    "    latitude, \n",
    "    longitude\n",
    "    )\n",
    "results2 = requests.get(url2).json()\n",
    "results2"
   ]
  },
  {
   "cell_type": "code",
   "execution_count": 36,
   "metadata": {},
   "outputs": [
    {
     "data": {
      "text/plain": [
       "{'count': 0, 'groups': []}"
      ]
     },
     "execution_count": 36,
     "metadata": {},
     "output_type": "execute_result"
    }
   ],
   "source": [
    "customerrating= results2['response']['venue']['likes']\n",
    "customerrating"
   ]
  },
  {
   "cell_type": "markdown",
   "metadata": {},
   "source": [
    "### This Shop doesnot have any ratings"
   ]
  },
  {
   "cell_type": "markdown",
   "metadata": {},
   "source": [
    "## Like this for every neighborhood we can retrieve the rating value from json and calculate the finalScore"
   ]
  }
 ],
 "metadata": {
  "kernelspec": {
   "display_name": "Python 3",
   "language": "python",
   "name": "python3"
  },
  "language_info": {
   "codemirror_mode": {
    "name": "ipython",
    "version": 3
   },
   "file_extension": ".py",
   "mimetype": "text/x-python",
   "name": "python",
   "nbconvert_exporter": "python",
   "pygments_lexer": "ipython3",
   "version": "3.6.6"
  }
 },
 "nbformat": 4,
 "nbformat_minor": 2
}
